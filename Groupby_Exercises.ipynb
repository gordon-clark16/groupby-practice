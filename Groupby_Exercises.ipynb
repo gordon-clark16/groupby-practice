{
  "nbformat": 4,
  "nbformat_minor": 0,
  "metadata": {
    "colab": {
      "name": "Groupby_Exercises.ipynb",
      "provenance": [],
      "authorship_tag": "ABX9TyOhUCpQZfHNEP+OOCfr4JDH"
    },
    "kernelspec": {
      "name": "python3",
      "display_name": "Python 3"
    },
    "language_info": {
      "name": "python"
    }
  },
  "cells": [
    {
      "cell_type": "code",
      "metadata": {
        "colab": {
          "base_uri": "https://localhost:8080/"
        },
        "id": "TkioUOOtV0JB",
        "outputId": "0d8b98c6-ae9b-4ce2-822f-632ac092f364"
      },
      "source": [
        "from google.colab import drive\n",
        "drive.mount('/content/drive')"
      ],
      "execution_count": null,
      "outputs": [
        {
          "output_type": "stream",
          "name": "stdout",
          "text": [
            "Mounted at /content/drive\n"
          ]
        }
      ]
    },
    {
      "cell_type": "code",
      "metadata": {
        "id": "uG93kS5NUl5s"
      },
      "source": [
        "import pandas as pd"
      ],
      "execution_count": null,
      "outputs": []
    },
    {
      "cell_type": "code",
      "metadata": {
        "colab": {
          "base_uri": "https://localhost:8080/"
        },
        "id": "Nrk26tBZVJ9E",
        "outputId": "e49c2c14-42c3-4f5d-d286-ae204fa3cc7e"
      },
      "source": [
        "filename = '/content/drive/MyDrive/Coding Dojo/Raw Data/CalIt2.csv'\n",
        "df = pd.read_csv(filename, header = None)\n",
        "df.info"
      ],
      "execution_count": null,
      "outputs": [
        {
          "output_type": "execute_result",
          "data": {
            "text/plain": [
              "<bound method DataFrame.info of        0         1         2  3\n",
              "0      7  07/24/05  00:00:00  0\n",
              "1      9  07/24/05  00:00:00  0\n",
              "2      7  07/24/05  00:30:00  1\n",
              "3      9  07/24/05  00:30:00  0\n",
              "4      7  07/24/05  01:00:00  0\n",
              "...   ..       ...       ... ..\n",
              "10075  9  11/05/05  22:30:00  0\n",
              "10076  7  11/05/05  23:00:00  0\n",
              "10077  9  11/05/05  23:00:00  0\n",
              "10078  7  11/05/05  23:30:00  1\n",
              "10079  9  11/05/05  23:30:00  0\n",
              "\n",
              "[10080 rows x 4 columns]>"
            ]
          },
          "metadata": {},
          "execution_count": 87
        }
      ]
    },
    {
      "cell_type": "code",
      "metadata": {
        "colab": {
          "base_uri": "https://localhost:8080/",
          "height": 203
        },
        "id": "T83QHgtNWens",
        "outputId": "98ceb8f1-1650-41d2-aad9-1a03caa843d4"
      },
      "source": [
        "#Rename Columns\n",
        "df = df.rename(columns = { 0 :'Flow_ID',\n",
        "                          1 :'Date',\n",
        "                          2 :'Time',\n",
        "                          3 :'Count'})\n",
        "df.head()"
      ],
      "execution_count": null,
      "outputs": [
        {
          "output_type": "execute_result",
          "data": {
            "text/html": [
              "<div>\n",
              "<style scoped>\n",
              "    .dataframe tbody tr th:only-of-type {\n",
              "        vertical-align: middle;\n",
              "    }\n",
              "\n",
              "    .dataframe tbody tr th {\n",
              "        vertical-align: top;\n",
              "    }\n",
              "\n",
              "    .dataframe thead th {\n",
              "        text-align: right;\n",
              "    }\n",
              "</style>\n",
              "<table border=\"1\" class=\"dataframe\">\n",
              "  <thead>\n",
              "    <tr style=\"text-align: right;\">\n",
              "      <th></th>\n",
              "      <th>Flow_ID</th>\n",
              "      <th>Date</th>\n",
              "      <th>Time</th>\n",
              "      <th>Count</th>\n",
              "    </tr>\n",
              "  </thead>\n",
              "  <tbody>\n",
              "    <tr>\n",
              "      <th>0</th>\n",
              "      <td>7</td>\n",
              "      <td>07/24/05</td>\n",
              "      <td>00:00:00</td>\n",
              "      <td>0</td>\n",
              "    </tr>\n",
              "    <tr>\n",
              "      <th>1</th>\n",
              "      <td>9</td>\n",
              "      <td>07/24/05</td>\n",
              "      <td>00:00:00</td>\n",
              "      <td>0</td>\n",
              "    </tr>\n",
              "    <tr>\n",
              "      <th>2</th>\n",
              "      <td>7</td>\n",
              "      <td>07/24/05</td>\n",
              "      <td>00:30:00</td>\n",
              "      <td>1</td>\n",
              "    </tr>\n",
              "    <tr>\n",
              "      <th>3</th>\n",
              "      <td>9</td>\n",
              "      <td>07/24/05</td>\n",
              "      <td>00:30:00</td>\n",
              "      <td>0</td>\n",
              "    </tr>\n",
              "    <tr>\n",
              "      <th>4</th>\n",
              "      <td>7</td>\n",
              "      <td>07/24/05</td>\n",
              "      <td>01:00:00</td>\n",
              "      <td>0</td>\n",
              "    </tr>\n",
              "  </tbody>\n",
              "</table>\n",
              "</div>"
            ],
            "text/plain": [
              "   Flow_ID      Date      Time  Count\n",
              "0        7  07/24/05  00:00:00      0\n",
              "1        9  07/24/05  00:00:00      0\n",
              "2        7  07/24/05  00:30:00      1\n",
              "3        9  07/24/05  00:30:00      0\n",
              "4        7  07/24/05  01:00:00      0"
            ]
          },
          "metadata": {},
          "execution_count": 42
        }
      ]
    },
    {
      "cell_type": "code",
      "metadata": {
        "colab": {
          "base_uri": "https://localhost:8080/"
        },
        "id": "9jE3bXeWcUCr",
        "outputId": "93a6dfb9-d6e1-4882-9bee-83266f28620b"
      },
      "source": [
        "# select all data for the date 07/24/2005\n",
        "date_filter = df['Date'] == '07/24/05'\n",
        "df.loc[date_filter, :].info()"
      ],
      "execution_count": null,
      "outputs": [
        {
          "output_type": "stream",
          "name": "stdout",
          "text": [
            "<class 'pandas.core.frame.DataFrame'>\n",
            "Int64Index: 96 entries, 0 to 95\n",
            "Data columns (total 4 columns):\n",
            " #   Column   Non-Null Count  Dtype \n",
            "---  ------   --------------  ----- \n",
            " 0   Flow_ID  96 non-null     int64 \n",
            " 1   Date     96 non-null     object\n",
            " 2   Time     96 non-null     object\n",
            " 3   Count    96 non-null     int64 \n",
            "dtypes: int64(2), object(2)\n",
            "memory usage: 3.8+ KB\n"
          ]
        }
      ]
    },
    {
      "cell_type": "code",
      "metadata": {
        "colab": {
          "base_uri": "https://localhost:8080/"
        },
        "id": "Bm5AKRdDdMdt",
        "outputId": "0b6b03d3-944f-47ea-8251-238895b04457"
      },
      "source": [
        "# select all data for flow id = 7\n",
        "flow_filter = df['Flow_ID'] == 7\n",
        "df.loc[flow_filter, :].info()"
      ],
      "execution_count": null,
      "outputs": [
        {
          "output_type": "stream",
          "name": "stdout",
          "text": [
            "<class 'pandas.core.frame.DataFrame'>\n",
            "Int64Index: 5040 entries, 0 to 10078\n",
            "Data columns (total 4 columns):\n",
            " #   Column   Non-Null Count  Dtype \n",
            "---  ------   --------------  ----- \n",
            " 0   Flow_ID  5040 non-null   int64 \n",
            " 1   Date     5040 non-null   object\n",
            " 2   Time     5040 non-null   object\n",
            " 3   Count    5040 non-null   int64 \n",
            "dtypes: int64(2), object(2)\n",
            "memory usage: 196.9+ KB\n"
          ]
        }
      ]
    },
    {
      "cell_type": "code",
      "metadata": {
        "colab": {
          "base_uri": "https://localhost:8080/"
        },
        "id": "wWNZ0aKkd-Jv",
        "outputId": "37067aec-d38c-442d-ebaf-bac5042e7f0e"
      },
      "source": [
        "# combine them\n",
        "combined_df = df.loc[date_filter & flow_filter, :]\n",
        "combined_df.info()"
      ],
      "execution_count": null,
      "outputs": [
        {
          "output_type": "stream",
          "name": "stdout",
          "text": [
            "<class 'pandas.core.frame.DataFrame'>\n",
            "Int64Index: 48 entries, 0 to 94\n",
            "Data columns (total 4 columns):\n",
            " #   Column   Non-Null Count  Dtype \n",
            "---  ------   --------------  ----- \n",
            " 0   Flow_ID  48 non-null     int64 \n",
            " 1   Date     48 non-null     object\n",
            " 2   Time     48 non-null     object\n",
            " 3   Count    48 non-null     int64 \n",
            "dtypes: int64(2), object(2)\n",
            "memory usage: 1.9+ KB\n"
          ]
        }
      ]
    },
    {
      "cell_type": "code",
      "metadata": {
        "colab": {
          "base_uri": "https://localhost:8080/",
          "height": 357
        },
        "id": "GZjykWV2eyle",
        "outputId": "8f011c07-c7aa-4f02-e490-60fe23dce848"
      },
      "source": [
        "# from selected data, sort the result on count in descending order\n",
        "# then output the top 10 rows. Assign the output to a variable named top\n",
        "top10 = combined_df.sort_values('Count', ascending = False).head(10)\n",
        "top10"
      ],
      "execution_count": null,
      "outputs": [
        {
          "output_type": "execute_result",
          "data": {
            "text/html": [
              "<div>\n",
              "<style scoped>\n",
              "    .dataframe tbody tr th:only-of-type {\n",
              "        vertical-align: middle;\n",
              "    }\n",
              "\n",
              "    .dataframe tbody tr th {\n",
              "        vertical-align: top;\n",
              "    }\n",
              "\n",
              "    .dataframe thead th {\n",
              "        text-align: right;\n",
              "    }\n",
              "</style>\n",
              "<table border=\"1\" class=\"dataframe\">\n",
              "  <thead>\n",
              "    <tr style=\"text-align: right;\">\n",
              "      <th></th>\n",
              "      <th>Flow_ID</th>\n",
              "      <th>Date</th>\n",
              "      <th>Time</th>\n",
              "      <th>Count</th>\n",
              "    </tr>\n",
              "  </thead>\n",
              "  <tbody>\n",
              "    <tr>\n",
              "      <th>72</th>\n",
              "      <td>7</td>\n",
              "      <td>07/24/05</td>\n",
              "      <td>18:00:00</td>\n",
              "      <td>4</td>\n",
              "    </tr>\n",
              "    <tr>\n",
              "      <th>84</th>\n",
              "      <td>7</td>\n",
              "      <td>07/24/05</td>\n",
              "      <td>21:00:00</td>\n",
              "      <td>3</td>\n",
              "    </tr>\n",
              "    <tr>\n",
              "      <th>76</th>\n",
              "      <td>7</td>\n",
              "      <td>07/24/05</td>\n",
              "      <td>19:00:00</td>\n",
              "      <td>2</td>\n",
              "    </tr>\n",
              "    <tr>\n",
              "      <th>92</th>\n",
              "      <td>7</td>\n",
              "      <td>07/24/05</td>\n",
              "      <td>23:00:00</td>\n",
              "      <td>2</td>\n",
              "    </tr>\n",
              "    <tr>\n",
              "      <th>30</th>\n",
              "      <td>7</td>\n",
              "      <td>07/24/05</td>\n",
              "      <td>07:30:00</td>\n",
              "      <td>2</td>\n",
              "    </tr>\n",
              "    <tr>\n",
              "      <th>10</th>\n",
              "      <td>7</td>\n",
              "      <td>07/24/05</td>\n",
              "      <td>02:30:00</td>\n",
              "      <td>2</td>\n",
              "    </tr>\n",
              "    <tr>\n",
              "      <th>86</th>\n",
              "      <td>7</td>\n",
              "      <td>07/24/05</td>\n",
              "      <td>21:30:00</td>\n",
              "      <td>2</td>\n",
              "    </tr>\n",
              "    <tr>\n",
              "      <th>70</th>\n",
              "      <td>7</td>\n",
              "      <td>07/24/05</td>\n",
              "      <td>17:30:00</td>\n",
              "      <td>2</td>\n",
              "    </tr>\n",
              "    <tr>\n",
              "      <th>68</th>\n",
              "      <td>7</td>\n",
              "      <td>07/24/05</td>\n",
              "      <td>17:00:00</td>\n",
              "      <td>1</td>\n",
              "    </tr>\n",
              "    <tr>\n",
              "      <th>74</th>\n",
              "      <td>7</td>\n",
              "      <td>07/24/05</td>\n",
              "      <td>18:30:00</td>\n",
              "      <td>1</td>\n",
              "    </tr>\n",
              "  </tbody>\n",
              "</table>\n",
              "</div>"
            ],
            "text/plain": [
              "    Flow_ID      Date      Time  Count\n",
              "72        7  07/24/05  18:00:00      4\n",
              "84        7  07/24/05  21:00:00      3\n",
              "76        7  07/24/05  19:00:00      2\n",
              "92        7  07/24/05  23:00:00      2\n",
              "30        7  07/24/05  07:30:00      2\n",
              "10        7  07/24/05  02:30:00      2\n",
              "86        7  07/24/05  21:30:00      2\n",
              "70        7  07/24/05  17:30:00      2\n",
              "68        7  07/24/05  17:00:00      1\n",
              "74        7  07/24/05  18:30:00      1"
            ]
          },
          "metadata": {},
          "execution_count": 46
        }
      ]
    },
    {
      "cell_type": "code",
      "metadata": {
        "colab": {
          "base_uri": "https://localhost:8080/"
        },
        "id": "cppJpN13h4ts",
        "outputId": "f099c83a-f554-4f3c-f61b-d693f3703ef1"
      },
      "source": [
        "# for top10, use Pandas Apply function to subtract lowest value of the 10 from\n",
        "# all of them and then output the average value of the resulting counts\n",
        "sub_count = top10['Count'] - min(top10['Count'])\n",
        "sub_count.mean()\n"
      ],
      "execution_count": null,
      "outputs": [
        {
          "output_type": "execute_result",
          "data": {
            "text/plain": [
              "1.1"
            ]
          },
          "metadata": {},
          "execution_count": 80
        }
      ]
    },
    {
      "cell_type": "code",
      "metadata": {
        "colab": {
          "base_uri": "https://localhost:8080/"
        },
        "id": "vd6SBziHznyY",
        "outputId": "1faa584c-64ed-4288-d7e0-383eb57c6819"
      },
      "source": [
        "# for top10, use Pandas Apply function to subtract lowest value of the 10 from\n",
        "# all of them and then output the average value of the resulting counts\n",
        "def count_mean(x):\n",
        "  return x - min(top10['Count'])\n",
        "top10['Count'] = top10['Count'].apply(count_mean)\n",
        "top10['Count'].mean()"
      ],
      "execution_count": null,
      "outputs": [
        {
          "output_type": "execute_result",
          "data": {
            "text/plain": [
              "1.1"
            ]
          },
          "metadata": {},
          "execution_count": 85
        }
      ]
    },
    {
      "cell_type": "code",
      "metadata": {
        "colab": {
          "base_uri": "https://localhost:8080/",
          "height": 203
        },
        "id": "LFDC--9WBgHL",
        "outputId": "02b38521-fbdd-4996-eb1c-b6b49fe93c02"
      },
      "source": [
        "# select data in the month of August 2005 having flow id = 7\n",
        "month_filter = (df['Date'] >= '08/01/05') & (df['Date'] <= '08/31/05')\n",
        "#flow_filter is defined from earlier\n",
        "group_df = df.loc[month_filter & flow_filter,:]\n",
        "group_df.head()"
      ],
      "execution_count": null,
      "outputs": [
        {
          "output_type": "execute_result",
          "data": {
            "text/html": [
              "<div>\n",
              "<style scoped>\n",
              "    .dataframe tbody tr th:only-of-type {\n",
              "        vertical-align: middle;\n",
              "    }\n",
              "\n",
              "    .dataframe tbody tr th {\n",
              "        vertical-align: top;\n",
              "    }\n",
              "\n",
              "    .dataframe thead th {\n",
              "        text-align: right;\n",
              "    }\n",
              "</style>\n",
              "<table border=\"1\" class=\"dataframe\">\n",
              "  <thead>\n",
              "    <tr style=\"text-align: right;\">\n",
              "      <th></th>\n",
              "      <th>Flow_ID</th>\n",
              "      <th>Date</th>\n",
              "      <th>Time</th>\n",
              "      <th>Count</th>\n",
              "    </tr>\n",
              "  </thead>\n",
              "  <tbody>\n",
              "    <tr>\n",
              "      <th>768</th>\n",
              "      <td>7</td>\n",
              "      <td>08/01/05</td>\n",
              "      <td>00:00:00</td>\n",
              "      <td>1</td>\n",
              "    </tr>\n",
              "    <tr>\n",
              "      <th>770</th>\n",
              "      <td>7</td>\n",
              "      <td>08/01/05</td>\n",
              "      <td>00:30:00</td>\n",
              "      <td>0</td>\n",
              "    </tr>\n",
              "    <tr>\n",
              "      <th>772</th>\n",
              "      <td>7</td>\n",
              "      <td>08/01/05</td>\n",
              "      <td>01:00:00</td>\n",
              "      <td>0</td>\n",
              "    </tr>\n",
              "    <tr>\n",
              "      <th>774</th>\n",
              "      <td>7</td>\n",
              "      <td>08/01/05</td>\n",
              "      <td>01:30:00</td>\n",
              "      <td>0</td>\n",
              "    </tr>\n",
              "    <tr>\n",
              "      <th>776</th>\n",
              "      <td>7</td>\n",
              "      <td>08/01/05</td>\n",
              "      <td>02:00:00</td>\n",
              "      <td>0</td>\n",
              "    </tr>\n",
              "  </tbody>\n",
              "</table>\n",
              "</div>"
            ],
            "text/plain": [
              "     Flow_ID      Date      Time  Count\n",
              "768        7  08/01/05  00:00:00      1\n",
              "770        7  08/01/05  00:30:00      0\n",
              "772        7  08/01/05  01:00:00      0\n",
              "774        7  08/01/05  01:30:00      0\n",
              "776        7  08/01/05  02:00:00      0"
            ]
          },
          "metadata": {},
          "execution_count": 86
        }
      ]
    },
    {
      "cell_type": "code",
      "metadata": {
        "colab": {
          "base_uri": "https://localhost:8080/",
          "height": 1000
        },
        "id": "8c9K6PlRGyt-",
        "outputId": "f9677a7b-261e-4d6c-c82c-cc2650cb3f00"
      },
      "source": [
        "#group the data based on date and get the max count per date\n",
        "group_df.groupby(['Date'])[['Count']].max()"
      ],
      "execution_count": null,
      "outputs": [
        {
          "output_type": "execute_result",
          "data": {
            "text/html": [
              "<div>\n",
              "<style scoped>\n",
              "    .dataframe tbody tr th:only-of-type {\n",
              "        vertical-align: middle;\n",
              "    }\n",
              "\n",
              "    .dataframe tbody tr th {\n",
              "        vertical-align: top;\n",
              "    }\n",
              "\n",
              "    .dataframe thead th {\n",
              "        text-align: right;\n",
              "    }\n",
              "</style>\n",
              "<table border=\"1\" class=\"dataframe\">\n",
              "  <thead>\n",
              "    <tr style=\"text-align: right;\">\n",
              "      <th></th>\n",
              "      <th>Count</th>\n",
              "    </tr>\n",
              "    <tr>\n",
              "      <th>Date</th>\n",
              "      <th></th>\n",
              "    </tr>\n",
              "  </thead>\n",
              "  <tbody>\n",
              "    <tr>\n",
              "      <th>08/01/05</th>\n",
              "      <td>18</td>\n",
              "    </tr>\n",
              "    <tr>\n",
              "      <th>08/02/05</th>\n",
              "      <td>16</td>\n",
              "    </tr>\n",
              "    <tr>\n",
              "      <th>08/03/05</th>\n",
              "      <td>26</td>\n",
              "    </tr>\n",
              "    <tr>\n",
              "      <th>08/04/05</th>\n",
              "      <td>40</td>\n",
              "    </tr>\n",
              "    <tr>\n",
              "      <th>08/05/05</th>\n",
              "      <td>17</td>\n",
              "    </tr>\n",
              "    <tr>\n",
              "      <th>08/06/05</th>\n",
              "      <td>8</td>\n",
              "    </tr>\n",
              "    <tr>\n",
              "      <th>08/07/05</th>\n",
              "      <td>3</td>\n",
              "    </tr>\n",
              "    <tr>\n",
              "      <th>08/08/05</th>\n",
              "      <td>16</td>\n",
              "    </tr>\n",
              "    <tr>\n",
              "      <th>08/09/05</th>\n",
              "      <td>19</td>\n",
              "    </tr>\n",
              "    <tr>\n",
              "      <th>08/10/05</th>\n",
              "      <td>25</td>\n",
              "    </tr>\n",
              "    <tr>\n",
              "      <th>08/11/05</th>\n",
              "      <td>16</td>\n",
              "    </tr>\n",
              "    <tr>\n",
              "      <th>08/12/05</th>\n",
              "      <td>21</td>\n",
              "    </tr>\n",
              "    <tr>\n",
              "      <th>08/13/05</th>\n",
              "      <td>5</td>\n",
              "    </tr>\n",
              "    <tr>\n",
              "      <th>08/14/05</th>\n",
              "      <td>3</td>\n",
              "    </tr>\n",
              "    <tr>\n",
              "      <th>08/15/05</th>\n",
              "      <td>17</td>\n",
              "    </tr>\n",
              "    <tr>\n",
              "      <th>08/16/05</th>\n",
              "      <td>24</td>\n",
              "    </tr>\n",
              "    <tr>\n",
              "      <th>08/17/05</th>\n",
              "      <td>22</td>\n",
              "    </tr>\n",
              "    <tr>\n",
              "      <th>08/18/05</th>\n",
              "      <td>39</td>\n",
              "    </tr>\n",
              "    <tr>\n",
              "      <th>08/19/05</th>\n",
              "      <td>23</td>\n",
              "    </tr>\n",
              "    <tr>\n",
              "      <th>08/20/05</th>\n",
              "      <td>3</td>\n",
              "    </tr>\n",
              "    <tr>\n",
              "      <th>08/21/05</th>\n",
              "      <td>4</td>\n",
              "    </tr>\n",
              "    <tr>\n",
              "      <th>08/22/05</th>\n",
              "      <td>23</td>\n",
              "    </tr>\n",
              "    <tr>\n",
              "      <th>08/23/05</th>\n",
              "      <td>25</td>\n",
              "    </tr>\n",
              "    <tr>\n",
              "      <th>08/24/05</th>\n",
              "      <td>17</td>\n",
              "    </tr>\n",
              "    <tr>\n",
              "      <th>08/25/05</th>\n",
              "      <td>24</td>\n",
              "    </tr>\n",
              "    <tr>\n",
              "      <th>08/26/05</th>\n",
              "      <td>22</td>\n",
              "    </tr>\n",
              "    <tr>\n",
              "      <th>08/27/05</th>\n",
              "      <td>3</td>\n",
              "    </tr>\n",
              "    <tr>\n",
              "      <th>08/28/05</th>\n",
              "      <td>7</td>\n",
              "    </tr>\n",
              "    <tr>\n",
              "      <th>08/29/05</th>\n",
              "      <td>15</td>\n",
              "    </tr>\n",
              "    <tr>\n",
              "      <th>08/30/05</th>\n",
              "      <td>47</td>\n",
              "    </tr>\n",
              "    <tr>\n",
              "      <th>08/31/05</th>\n",
              "      <td>19</td>\n",
              "    </tr>\n",
              "  </tbody>\n",
              "</table>\n",
              "</div>"
            ],
            "text/plain": [
              "          Count\n",
              "Date           \n",
              "08/01/05     18\n",
              "08/02/05     16\n",
              "08/03/05     26\n",
              "08/04/05     40\n",
              "08/05/05     17\n",
              "08/06/05      8\n",
              "08/07/05      3\n",
              "08/08/05     16\n",
              "08/09/05     19\n",
              "08/10/05     25\n",
              "08/11/05     16\n",
              "08/12/05     21\n",
              "08/13/05      5\n",
              "08/14/05      3\n",
              "08/15/05     17\n",
              "08/16/05     24\n",
              "08/17/05     22\n",
              "08/18/05     39\n",
              "08/19/05     23\n",
              "08/20/05      3\n",
              "08/21/05      4\n",
              "08/22/05     23\n",
              "08/23/05     25\n",
              "08/24/05     17\n",
              "08/25/05     24\n",
              "08/26/05     22\n",
              "08/27/05      3\n",
              "08/28/05      7\n",
              "08/29/05     15\n",
              "08/30/05     47\n",
              "08/31/05     19"
            ]
          },
          "metadata": {},
          "execution_count": 74
        }
      ]
    },
    {
      "cell_type": "code",
      "metadata": {
        "id": "4J-MdcAVJqJA"
      },
      "source": [
        ""
      ],
      "execution_count": null,
      "outputs": []
    }
  ]
}